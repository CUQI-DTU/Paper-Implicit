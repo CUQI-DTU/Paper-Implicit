{
 "cells": [
  {
   "attachments": {},
   "cell_type": "markdown",
   "metadata": {},
   "source": [
    "# 2D Poisson problem with TV denoising using MYULA (Part 1)\n",
    "\n",
    "This script provide code for figure 12 in section 5.2.4 of the paper. The goal is to infer log conductivity 𝜿 from measurements of potential u everywhere in the domain. The forward model is governed by the Possion equation with zero Dirichlet boundary conditions and source term $f(x_1, x_2)=1$.\n",
    "\n",
    "$$ \\nabla \\cdot \\left( e^{\\kappa(x_1, x_2)} \\nabla u(x_1, x_2) \\right) = f(x_1, x_2) \\;\\; \\text{ in } \\;\\;\\Omega = (0,1)^2 $$\n",
    "\n",
    "We use MYULA with TV denoising. For more details about the problem setup, please refer to the paper.\n",
    "\n",
    "Additional resources for solving Poisson problem using CUQIpy-FEniCS:\n",
    "- [CUQI book](https://cuqi-dtu.github.io/CUQI-Book/chapter04/Plugins/CUQIpy-FEniCS/poisson_2D_fenics.html)\n",
    "- [Documentation](https://cuqi-dtu.github.io/CUQIpy-FEniCS/api/_autosummary/cuqipy_fenics.testproblem/cuqipy_fenics.testproblem.FEniCSPoisson2D.html#cuqipy_fenics.testproblem.FEniCSPoisson2D)\n",
    "- [CUQIpy paper part II](https://arxiv.org/abs/2305.16951)\n",
    "\n"
   ]
  },
  {
   "cell_type": "markdown",
   "metadata": {},
   "source": [
    "### Imports"
   ]
  },
  {
   "cell_type": "code",
   "execution_count": 1,
   "metadata": {
    "execution": {
     "iopub.execute_input": "2025-09-07T20:23:21.671917Z",
     "iopub.status.busy": "2025-09-07T20:23:21.671723Z",
     "iopub.status.idle": "2025-09-07T20:23:25.113190Z",
     "shell.execute_reply": "2025-09-07T20:23:25.112610Z"
    }
   },
   "outputs": [],
   "source": [
    "from cuqi.problem import BayesianProblem\n",
    "from cuqi.distribution import Gaussian\n",
    "from cuqi.experimental.mcmc import  ULA\n",
    "from cuqi.samples import Samples\n",
    "from cuqi.implicitprior import RestorationPrior, MoreauYoshidaPrior\n",
    "from cuqipy_fenics.testproblem import FEniCSPoisson2D\n",
    "from pde_myula_utils import (sample_in_batches,\n",
    "                             plot_figure_12,\n",
    "                             get_samples_at_line)\n",
    "import numpy as np\n",
    "import cuqi\n",
    "import cuqipy_fenics\n",
    "import dolfin as dl\n",
    "import matplotlib.pyplot as plt\n",
    "from skimage.restoration import denoise_tv_chambolle\n",
    "import os\n",
    "import argparse\n",
    "import sys\n",
    "\n",
    "# Set logging level of dl\n",
    "dl.set_log_level(dl.LogLevel.ERROR)"
   ]
  },
  {
   "cell_type": "markdown",
   "metadata": {},
   "source": [
    "### Print CUQIpy and CUQIpy-FEniCS versions:"
   ]
  },
  {
   "cell_type": "code",
   "execution_count": 2,
   "metadata": {
    "execution": {
     "iopub.execute_input": "2025-09-07T20:23:25.117316Z",
     "iopub.status.busy": "2025-09-07T20:23:25.116249Z",
     "iopub.status.idle": "2025-09-07T20:23:25.142475Z",
     "shell.execute_reply": "2025-09-07T20:23:25.141962Z"
    }
   },
   "outputs": [
    {
     "name": "stdout",
     "output_type": "stream",
     "text": [
      "1.3.0\n",
      "0.8.0\n"
     ]
    }
   ],
   "source": [
    "print(cuqi.__version__)\n",
    "print(cuqipy_fenics.__version__)"
   ]
  },
  {
   "cell_type": "markdown",
   "metadata": {},
   "source": [
    "### Parameters"
   ]
  },
  {
   "cell_type": "markdown",
   "metadata": {},
   "source": [
    "Read parameter for TV strength from command line arguments, if any. If not provided, use default value (5.0 for TV_strength_factor).\n",
    "\n",
    "An example command to run the notebook from command line using nbconvert is:\n",
    "```\n",
    "NB_ARGS=' --TV_strength_factor 6.0' jupyter nbconvert --execute --to notebook Poisson_2D_MYULA_Part1.ipynb --output Poisson_2D_MYULA_Part1_6.ipynb\n",
    "```"
   ]
  },
  {
   "cell_type": "code",
   "execution_count": 3,
   "metadata": {
    "execution": {
     "iopub.execute_input": "2025-09-07T20:23:25.161805Z",
     "iopub.status.busy": "2025-09-07T20:23:25.161598Z",
     "iopub.status.idle": "2025-09-07T20:23:25.165459Z",
     "shell.execute_reply": "2025-09-07T20:23:25.164957Z"
    }
   },
   "outputs": [],
   "source": [
    "parser = argparse.ArgumentParser(description='Run MYULA example for a given TV strength factor')\n",
    "parser.add_argument('--TV_strength_factor', type=float, default=5.0, help='restoration strength factor for the TV prior')\n",
    "\n",
    "# 'NB_ARGS' environment variable is set when running the notebook from command\n",
    "# line using nbconvert as shown above.\n",
    "try:\n",
    "    os.environ['NB_ARGS']\n",
    "except KeyError:\n",
    "    os.environ['NB_ARGS'] = ''\n",
    "args = parser.parse_args(os.environ['NB_ARGS'].split())"
   ]
  },
  {
   "cell_type": "code",
   "execution_count": 4,
   "metadata": {
    "execution": {
     "iopub.execute_input": "2025-09-07T20:23:25.168339Z",
     "iopub.status.busy": "2025-09-07T20:23:25.168141Z",
     "iopub.status.idle": "2025-09-07T20:23:25.171353Z",
     "shell.execute_reply": "2025-09-07T20:23:25.170720Z"
    }
   },
   "outputs": [],
   "source": [
    "# Set random seed for reproducibility\n",
    "np.random.seed(0)\n",
    "\n",
    "Ns = 500000 # Number of samples\n",
    "Nt= 20 # Thinning, take every Nt sample\n",
    "Nb = 200 # Number of burn-in samples\n",
    "\n",
    "noise_level = 0.01 # Level of noise in data\n",
    "\n",
    "TV_weight_factor = args.TV_strength_factor # default 5.0\n",
    "nx = 32 # (For nx by nx mesh)\n",
    "sample_batches = True # Sample in batches to save memory"
   ]
  },
  {
   "cell_type": "markdown",
   "metadata": {},
   "source": [
    "### Tag (used for file names, etc)"
   ]
  },
  {
   "cell_type": "code",
   "execution_count": 5,
   "metadata": {
    "execution": {
     "iopub.execute_input": "2025-09-07T20:23:25.174319Z",
     "iopub.status.busy": "2025-09-07T20:23:25.174122Z",
     "iopub.status.idle": "2025-09-07T20:23:25.177067Z",
     "shell.execute_reply": "2025-09-07T20:23:25.176568Z"
    }
   },
   "outputs": [
    {
     "name": "stdout",
     "output_type": "stream",
     "text": [
      "_nx_32_rest_str_30.0\n"
     ]
    }
   ],
   "source": [
    "expr_tag = f\"_nx_{nx}_rest_str_{TV_weight_factor}\"\n",
    "print(expr_tag)"
   ]
  },
  {
   "cell_type": "markdown",
   "metadata": {},
   "source": [
    "### Forward model\n",
    "\n",
    "We use a CUQIpy-FEniCS test problem for the forward model."
   ]
  },
  {
   "cell_type": "code",
   "execution_count": 6,
   "metadata": {
    "execution": {
     "iopub.execute_input": "2025-09-07T20:23:25.180672Z",
     "iopub.status.busy": "2025-09-07T20:23:25.180476Z",
     "iopub.status.idle": "2025-09-07T20:23:25.281642Z",
     "shell.execute_reply": "2025-09-07T20:23:25.281159Z"
    }
   },
   "outputs": [
    {
     "name": "stdout",
     "output_type": "stream",
     "text": [
      "WARNING: user expression has not supplied value_shape method or an element. Assuming scalar element.\n"
     ]
    }
   ],
   "source": [
    "A = FEniCSPoisson2D(dim=(nx,nx),\n",
    "                    field_type=None,\n",
    "                    mapping='exponential', # to infer log-conductivity\n",
    "                    bc_types=['Dirichlet', 'Dirichlet', 'Dirichlet', 'Dirichlet']).model"
   ]
  },
  {
   "cell_type": "markdown",
   "metadata": {},
   "source": [
    "We plot the mesh"
   ]
  },
  {
   "cell_type": "code",
   "execution_count": 7,
   "metadata": {
    "execution": {
     "iopub.execute_input": "2025-09-07T20:23:25.285148Z",
     "iopub.status.busy": "2025-09-07T20:23:25.284218Z",
     "iopub.status.idle": "2025-09-07T20:23:25.466793Z",
     "shell.execute_reply": "2025-09-07T20:23:25.466299Z"
    }
   },
   "outputs": [
    {
     "data": {
      "image/png": "[encoded data removed]",
      "text/plain": [
       "<Figure size 640x480 with 1 Axes>"
      ]
     },
     "metadata": {},
     "output_type": "display_data"
    }
   ],
   "source": [
    "dl.plot(A.domain_geometry.mesh);"
   ]
  },
  {
   "cell_type": "markdown",
   "metadata": {},
   "source": [
    "### Create true signal (true log-conductivity field)\n",
    "\n",
    "We create a true log-conductivity field as a square inclusion of high conductivity at the center of the domain in a background of low conductivity and plot it.\n"
   ]
  },
  {
   "cell_type": "code",
   "execution_count": 8,
   "metadata": {
    "execution": {
     "iopub.execute_input": "2025-09-07T20:23:25.470384Z",
     "iopub.status.busy": "2025-09-07T20:23:25.469441Z",
     "iopub.status.idle": "2025-09-07T20:23:25.731228Z",
     "shell.execute_reply": "2025-09-07T20:23:25.730732Z"
    }
   },
   "outputs": [
    {
     "data": {
      "text/plain": [
       "<matplotlib.colorbar.Colorbar at 0x7fc910174680>"
      ]
     },
     "execution_count": 8,
     "metadata": {},
     "output_type": "execute_result"
    },
    {
     "data": {
      "image/png": "[encoded data removed]",
      "text/plain": [
       "<Figure size 640x480 with 2 Axes>"
      ]
     },
     "metadata": {},
     "output_type": "display_data"
    }
   ],
   "source": [
    "fun_kappa_true_expr = dl.Expression(\n",
    "    '(x[0]>0.35 && x[0]< 0.65 && x[1]>0.35 && x[1]< 0.65) ? 0 : -0.5', degree=1)\n",
    "kappa_true_fun = dl.interpolate(\n",
    "    fun_kappa_true_expr, A.domain_geometry.function_space)\n",
    "kappa_true = cuqi.array.CUQIarray(\n",
    "    kappa_true_fun.vector().get_local(), geometry=A.domain_geometry)\n",
    "\n",
    "im = kappa_true.plot()\n",
    "plt.colorbar(im[0])"
   ]
  },
  {
   "attachments": {},
   "cell_type": "markdown",
   "metadata": {},
   "source": [
    "### Compute noise STD from noise level\n",
    "\n",
    "We compute the noise standard deviation `s_noise` from the specified noise level and the norm of the noise-free data `y_true`."
   ]
  },
  {
   "cell_type": "code",
   "execution_count": 9,
   "metadata": {
    "execution": {
     "iopub.execute_input": "2025-09-07T20:23:25.734774Z",
     "iopub.status.busy": "2025-09-07T20:23:25.733835Z",
     "iopub.status.idle": "2025-09-07T20:23:25.749192Z",
     "shell.execute_reply": "2025-09-07T20:23:25.748688Z"
    }
   },
   "outputs": [],
   "source": [
    "y_true = A(kappa_true)\n",
    "s_noise = 1.0/np.sqrt(A.domain_geometry.par_dim)* noise_level*np.linalg.norm(y_true)"
   ]
  },
  {
   "cell_type": "markdown",
   "metadata": {},
   "source": [
    "### Create a MoreauYoshidaPrior\n",
    "\n",
    "First we create a restore function that applies `denoise_tv_chambolle` to FEniCS functions (more precisely, to a grid representation of the function)."
   ]
  },
  {
   "cell_type": "code",
   "execution_count": 10,
   "metadata": {
    "execution": {
     "iopub.execute_input": "2025-09-07T20:23:25.752689Z",
     "iopub.status.busy": "2025-09-07T20:23:25.751758Z",
     "iopub.status.idle": "2025-09-07T20:23:25.756885Z",
     "shell.execute_reply": "2025-09-07T20:23:25.756402Z"
    }
   },
   "outputs": [],
   "source": [
    "def restore_TV(x, restoration_strength=None):\n",
    "    # x is 1D array representing the degrees of freedom of finite element\n",
    "    # function (here it is values of the function on the nodes of the\n",
    "    # uniform mesh)\n",
    "\n",
    "    # Create FEniCS function from the array representation (the degrees of\n",
    "    # freedom of the finite element function)\n",
    "    H_prox = A.domain_geometry.function_space\n",
    "    x_fun = dl.Function(H_prox)\n",
    "    x_fun.vector()[:] = x\n",
    "\n",
    "    # Convert the FEniCS function to a numpy array representing values of the\n",
    "    # function on a 2D grid\n",
    "    vertices_on_axis = int(np.sqrt(A.domain_geometry.mesh.num_vertices()))\n",
    "    x_grid = x_fun.compute_vertex_values().reshape(\n",
    "        (vertices_on_axis, vertices_on_axis))\n",
    "\n",
    "    # Apply denoising on the grid representation of the function\n",
    "    denoised_image = denoise_tv_chambolle(\n",
    "        x_grid,\n",
    "        weight=TV_weight_factor*restoration_strength,\n",
    "        max_num_iter=100)\n",
    "\n",
    "    # Convert (reorder) the denoised image back to FEniCS function degrees\n",
    "    # of freedom\n",
    "    d2v = dl.dof_to_vertex_map(A.domain_geometry.function_space)\n",
    "    reordered_denoised_image = denoised_image.flatten()[d2v]\n",
    "\n",
    "    return  reordered_denoised_image, None"
   ]
  },
  {
   "cell_type": "markdown",
   "metadata": {},
   "source": [
    "We then create the restoration object"
   ]
  },
  {
   "cell_type": "code",
   "execution_count": 11,
   "metadata": {
    "execution": {
     "iopub.execute_input": "2025-09-07T20:23:25.760359Z",
     "iopub.status.busy": "2025-09-07T20:23:25.759428Z",
     "iopub.status.idle": "2025-09-07T20:23:25.763228Z",
     "shell.execute_reply": "2025-09-07T20:23:25.762742Z"
    }
   },
   "outputs": [],
   "source": [
    "restorator = RestorationPrior(\n",
    "        restore_TV,\n",
    "        geometry=A.domain_geometry\n",
    "    )"
   ]
  },
  {
   "cell_type": "markdown",
   "metadata": {},
   "source": [
    "And the `MoreauYoshidaPrior`"
   ]
  },
  {
   "cell_type": "code",
   "execution_count": 12,
   "metadata": {
    "execution": {
     "iopub.execute_input": "2025-09-07T20:23:25.766683Z",
     "iopub.status.busy": "2025-09-07T20:23:25.765749Z",
     "iopub.status.idle": "2025-09-07T20:23:25.769652Z",
     "shell.execute_reply": "2025-09-07T20:23:25.769175Z"
    }
   },
   "outputs": [],
   "source": [
    "restoration_strength = 0.5 * s_noise**2\n",
    "x = MoreauYoshidaPrior(restorator, smoothing_strength=restoration_strength)"
   ]
  },
  {
   "cell_type": "markdown",
   "metadata": {},
   "source": [
    "### Create the data distribution and the data"
   ]
  },
  {
   "cell_type": "markdown",
   "metadata": {},
   "source": [
    "We create the data distribution"
   ]
  },
  {
   "cell_type": "code",
   "execution_count": 13,
   "metadata": {
    "execution": {
     "iopub.execute_input": "2025-09-07T20:23:25.773298Z",
     "iopub.status.busy": "2025-09-07T20:23:25.772244Z",
     "iopub.status.idle": "2025-09-07T20:23:25.777094Z",
     "shell.execute_reply": "2025-09-07T20:23:25.776597Z"
    }
   },
   "outputs": [],
   "source": [
    "y = Gaussian(A(x), s_noise**2, geometry=A.range_geometry)"
   ]
  },
  {
   "cell_type": "markdown",
   "metadata": {},
   "source": [
    "And synthetic noisy data"
   ]
  },
  {
   "cell_type": "code",
   "execution_count": 14,
   "metadata": {
    "execution": {
     "iopub.execute_input": "2025-09-07T20:23:25.780533Z",
     "iopub.status.busy": "2025-09-07T20:23:25.779607Z",
     "iopub.status.idle": "2025-09-07T20:23:25.794673Z",
     "shell.execute_reply": "2025-09-07T20:23:25.794178Z"
    }
   },
   "outputs": [],
   "source": [
    "y_obs = y(x=kappa_true).sample()"
   ]
  },
  {
   "cell_type": "markdown",
   "metadata": {},
   "source": [
    "And plot both"
   ]
  },
  {
   "cell_type": "code",
   "execution_count": 15,
   "metadata": {
    "execution": {
     "iopub.execute_input": "2025-09-07T20:23:25.798147Z",
     "iopub.status.busy": "2025-09-07T20:23:25.797219Z",
     "iopub.status.idle": "2025-09-07T20:23:26.138124Z",
     "shell.execute_reply": "2025-09-07T20:23:26.137630Z"
    }
   },
   "outputs": [
    {
     "data": {
      "text/plain": [
       "[<matplotlib.tri._tricontour.TriContourSet at 0x7fc90ff42360>]"
      ]
     },
     "execution_count": 15,
     "metadata": {},
     "output_type": "execute_result"
    },
    {
     "data": {
      "image/png": "[encoded data removed]",
      "text/plain": [
       "<Figure size 600x300 with 2 Axes>"
      ]
     },
     "metadata": {},
     "output_type": "display_data"
    }
   ],
   "source": [
    "fig, ax = plt.subplots(1,2, figsize=(6,3))\n",
    "plt.sca(ax[0])\n",
    "y_obs.plot(subplots=False, title='Observed noisy data')\n",
    "plt.sca(ax[1])\n",
    "y_true.plot(subplots=False, title='True data')"
   ]
  },
  {
   "cell_type": "markdown",
   "metadata": {},
   "source": [
    "### Create the Bayesian problem\n",
    "\n",
    "Create the Bayesian problem and obtain the posterior distribution"
   ]
  },
  {
   "cell_type": "code",
   "execution_count": 16,
   "metadata": {
    "execution": {
     "iopub.execute_input": "2025-09-07T20:23:26.141615Z",
     "iopub.status.busy": "2025-09-07T20:23:26.140681Z",
     "iopub.status.idle": "2025-09-07T20:23:26.145310Z",
     "shell.execute_reply": "2025-09-07T20:23:26.144818Z"
    }
   },
   "outputs": [],
   "source": [
    "BP = BayesianProblem(y, x).set_data(y=y_obs)\n",
    "posterior = BP.posterior()"
   ]
  },
  {
   "cell_type": "markdown",
   "metadata": {},
   "source": [
    "### Sample the posterior"
   ]
  },
  {
   "cell_type": "markdown",
   "metadata": {},
   "source": [
    "Sample the posterior using ULA (effectively this is MYULA since we are using a Moreau-Yoshida prior)."
   ]
  },
  {
   "cell_type": "code",
   "execution_count": 17,
   "metadata": {
    "execution": {
     "iopub.execute_input": "2025-09-07T20:23:26.148831Z",
     "iopub.status.busy": "2025-09-07T20:23:26.147900Z",
     "iopub.status.idle": "2025-09-07T20:23:26.201565Z",
     "shell.execute_reply": "2025-09-07T20:23:26.201067Z"
    }
   },
   "outputs": [],
   "source": [
    "initial_point = np.ones(A.domain_geometry.par_dim)*-0.25\n",
    "   \n",
    "sampler = ULA(posterior, scale=1e-4, initial_point=initial_point)"
   ]
  },
  {
   "cell_type": "markdown",
   "metadata": {},
   "source": [
    "If the flag `sample_batches` is set to True, we sample in batches. This is helpful in the case of large number of samples to avoid memory issues."
   ]
  },
  {
   "cell_type": "code",
   "execution_count": 18,
   "metadata": {
    "execution": {
     "iopub.execute_input": "2025-09-07T20:23:26.205068Z",
     "iopub.status.busy": "2025-09-07T20:23:26.204139Z",
     "iopub.status.idle": "2025-09-08T01:26:03.213100Z",
     "shell.execute_reply": "2025-09-08T01:26:03.212427Z"
    }
   },
   "outputs": [
    {
     "name": "stderr",
     "output_type": "stream",
     "text": [
      "Warmup: 100%|██████████| 200/200 [00:07<00:00, 28.04it/s, acc rate: 100.00%]\n"
     ]
    },
    {
     "name": "stdout",
     "output_type": "stream",
     "text": [
      "batch number 0 of 10\n"
     ]
    },
    {
     "name": "stderr",
     "output_type": "stream",
     "text": [
      "Sample: 100%|██████████| 50000/50000 [30:21<00:00, 27.45it/s, acc rate: 100.00%]\n"
     ]
    },
    {
     "name": "stdout",
     "output_type": "stream",
     "text": [
      "batch number 1 of 10\n"
     ]
    },
    {
     "name": "stderr",
     "output_type": "stream",
     "text": [
      "Sample: 100%|██████████| 50000/50000 [30:12<00:00, 27.58it/s, acc rate: 100.00%]\n"
     ]
    },
    {
     "name": "stdout",
     "output_type": "stream",
     "text": [
      "batch number 2 of 10\n"
     ]
    },
    {
     "name": "stderr",
     "output_type": "stream",
     "text": [
      "Sample: 100%|██████████| 50000/50000 [30:11<00:00, 27.61it/s, acc rate: 100.00%]\n"
     ]
    },
    {
     "name": "stdout",
     "output_type": "stream",
     "text": [
      "batch number 3 of 10\n"
     ]
    },
    {
     "name": "stderr",
     "output_type": "stream",
     "text": [
      "Sample: 100%|██████████| 50000/50000 [30:13<00:00, 27.57it/s, acc rate: 100.00%]\n"
     ]
    },
    {
     "name": "stdout",
     "output_type": "stream",
     "text": [
      "batch number 4 of 10\n"
     ]
    },
    {
     "name": "stderr",
     "output_type": "stream",
     "text": [
      "Sample: 100%|██████████| 50000/50000 [30:13<00:00, 27.57it/s, acc rate: 100.00%]\n"
     ]
    },
    {
     "name": "stdout",
     "output_type": "stream",
     "text": [
      "batch number 5 of 10\n"
     ]
    },
    {
     "name": "stderr",
     "output_type": "stream",
     "text": [
      "Sample: 100%|██████████| 50000/50000 [30:13<00:00, 27.57it/s, acc rate: 100.00%]\n"
     ]
    },
    {
     "name": "stdout",
     "output_type": "stream",
     "text": [
      "batch number 6 of 10\n"
     ]
    },
    {
     "name": "stderr",
     "output_type": "stream",
     "text": [
      "Sample: 100%|██████████| 50000/50000 [30:14<00:00, 27.56it/s, acc rate: 100.00%]\n"
     ]
    },
    {
     "name": "stdout",
     "output_type": "stream",
     "text": [
      "batch number 7 of 10\n"
     ]
    },
    {
     "name": "stderr",
     "output_type": "stream",
     "text": [
      "Sample: 100%|██████████| 50000/50000 [30:17<00:00, 27.51it/s, acc rate: 100.00%]\n"
     ]
    },
    {
     "name": "stdout",
     "output_type": "stream",
     "text": [
      "batch number 8 of 10\n"
     ]
    },
    {
     "name": "stderr",
     "output_type": "stream",
     "text": [
      "Sample: 100%|██████████| 50000/50000 [30:16<00:00, 27.53it/s, acc rate: 100.00%]\n"
     ]
    },
    {
     "name": "stdout",
     "output_type": "stream",
     "text": [
      "batch number 9 of 10\n"
     ]
    },
    {
     "name": "stderr",
     "output_type": "stream",
     "text": [
      "Sample: 100%|██████████| 50000/50000 [30:14<00:00, 27.55it/s, acc rate: 100.00%]\n"
     ]
    }
   ],
   "source": [
    "sampler.warmup(Nb)\n",
    "sampler._samples = [] # clear samples after warmup\n",
    "\n",
    "if sample_batches:\n",
    "    posterior_samples = sample_in_batches(sampler, Ns, Nt, A)\n",
    "else:\n",
    "    sampler.sample(Ns)\n",
    "    posterior_samples = sampler.get_samples()\n",
    "    posterior_samples = posterior_samples.burnthin(Nb=0, Nt=Nt)"
   ]
  },
  {
   "cell_type": "markdown",
   "metadata": {},
   "source": [
    "Then we save the samples and the noisy data to a file"
   ]
  },
  {
   "cell_type": "code",
   "execution_count": 19,
   "metadata": {
    "execution": {
     "iopub.execute_input": "2025-09-08T01:26:03.217819Z",
     "iopub.status.busy": "2025-09-08T01:26:03.216626Z",
     "iopub.status.idle": "2025-09-08T01:26:05.389299Z",
     "shell.execute_reply": "2025-09-08T01:26:05.388752Z"
    }
   },
   "outputs": [],
   "source": [
    "# Save the samples and the noisy data to a file\n",
    "# Directory\n",
    "results_dir = './results/'\n",
    "\n",
    "# Check if the directory exists\n",
    "if not os.path.exists(results_dir):\n",
    "    os.makedirs(results_dir)\n",
    "\n",
    "# Results file\n",
    "results_file = results_dir + \"posterior_samples_2D\" + expr_tag + \".npz\"\n",
    "np.savez(results_file, posterior_samples=posterior_samples.samples, noisy_data=y_obs.funvals.vector().get_local())"
   ]
  },
  {
   "attachments": {},
   "cell_type": "markdown",
   "metadata": {},
   "source": [
    "### Plot results"
   ]
  },
  {
   "cell_type": "markdown",
   "metadata": {},
   "source": [
    "Extract samples at line x_2 = 0.5 to be used later for plotting"
   ]
  },
  {
   "cell_type": "code",
   "execution_count": 20,
   "metadata": {
    "execution": {
     "iopub.execute_input": "2025-09-08T01:26:05.393141Z",
     "iopub.status.busy": "2025-09-08T01:26:05.392203Z",
     "iopub.status.idle": "2025-09-08T01:26:28.615153Z",
     "shell.execute_reply": "2025-09-08T01:26:28.614310Z"
    }
   },
   "outputs": [],
   "source": [
    "xx = np.linspace(0, 1, 100)\n",
    "yy = np.ones_like(xx)*0.5\n",
    "line_samples = get_samples_at_line(posterior_samples, xx, yy)"
   ]
  },
  {
   "cell_type": "markdown",
   "metadata": {},
   "source": [
    "Extract `kappa_true` value at the same line"
   ]
  },
  {
   "cell_type": "code",
   "execution_count": 21,
   "metadata": {
    "execution": {
     "iopub.execute_input": "2025-09-08T01:26:28.619499Z",
     "iopub.status.busy": "2025-09-08T01:26:28.618547Z",
     "iopub.status.idle": "2025-09-08T01:26:28.624016Z",
     "shell.execute_reply": "2025-09-08T01:26:28.623541Z"
    }
   },
   "outputs": [],
   "source": [
    "exact_line = []\n",
    "for x_i, y_i in zip(xx, yy):\n",
    "        exact_line.append(kappa_true_fun(x_i, y_i))\n",
    "exact_line = np.array(exact_line)\n"
   ]
  },
  {
   "cell_type": "markdown",
   "metadata": {},
   "source": [
    "Print the effective sample size (ESS) "
   ]
  },
  {
   "cell_type": "code",
   "execution_count": 22,
   "metadata": {
    "execution": {
     "iopub.execute_input": "2025-09-08T01:26:28.627437Z",
     "iopub.status.busy": "2025-09-08T01:26:28.626513Z",
     "iopub.status.idle": "2025-09-08T01:26:36.439435Z",
     "shell.execute_reply": "2025-09-08T01:26:36.438914Z"
    }
   },
   "outputs": [
    {
     "name": "stdout",
     "output_type": "stream",
     "text": [
      "ESS min: 2038, max:10979, mean:6504\n"
     ]
    }
   ],
   "source": [
    "ess_list = posterior_samples.compute_ess()\n",
    "print('ESS min: '+str(int(np.min(ess_list)))+', max:'+str(int(np.max(ess_list)))+', mean:'+str(int(np.mean(ess_list))))"
   ]
  },
  {
   "cell_type": "markdown",
   "metadata": {},
   "source": [
    "Plot figure 12:"
   ]
  },
  {
   "cell_type": "code",
   "execution_count": 23,
   "metadata": {
    "execution": {
     "iopub.execute_input": "2025-09-08T01:26:36.443108Z",
     "iopub.status.busy": "2025-09-08T01:26:36.442163Z",
     "iopub.status.idle": "2025-09-08T01:26:48.129509Z",
     "shell.execute_reply": "2025-09-08T01:26:48.129013Z"
    }
   },
   "outputs": [
    {
     "data": {
      "image/png": "[encoded data removed]",
      "text/plain": [
       "<Figure size 700.787x385.827 with 6 Axes>"
      ]
     },
     "metadata": {},
     "output_type": "display_data"
    }
   ],
   "source": [
    "# Plot figure 12\n",
    "plot_figure_12(\n",
    "    kappa_true, y_true, y_obs, posterior_samples, line_samples, exact_line, xx)\n",
    "\n",
    "# Save the figure\n",
    "# Figure directory\n",
    "fig_dir = './figs/'\n",
    "\n",
    "# Check if the directory exists\n",
    "if not os.path.exists(fig_dir):\n",
    "    os.makedirs(fig_dir)\n",
    "\n",
    "# Figure version\n",
    "version = 'v8'\n",
    "\n",
    "# Figure file\n",
    "fig_file = fig_dir + 'paper_figure1_'+expr_tag+'_'+version+'.pdf'\n",
    "plt.savefig(fig_file, bbox_inches='tight', pad_inches=0.01, dpi=600)"
   ]
  }
 ],
 "metadata": {
  "kernelspec": {
   "display_name": "fenicsproject",
   "language": "python",
   "name": "python3"
  },
  "language_info": {
   "codemirror_mode": {
    "name": "ipython",
    "version": 3
   },
   "file_extension": ".py",
   "mimetype": "text/x-python",
   "name": "python",
   "nbconvert_exporter": "python",
   "pygments_lexer": "ipython3",
   "version": "3.12.2"
  }
 },
 "nbformat": 4,
 "nbformat_minor": 2
}
